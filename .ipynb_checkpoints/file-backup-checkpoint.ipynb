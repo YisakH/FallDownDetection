{
 "cells": [
  {
   "cell_type": "code",
   "execution_count": 35,
   "metadata": {
    "tags": []
   },
   "outputs": [],
   "source": [
    "import os\n",
    "import json\n",
    "from tqdm import trange\n",
    "import torch\n",
    "from torch.utils.data import TensorDataset, DataLoader\n",
    "from tqdm import tqdm\n",
    "import os\n",
    "\n",
    "os.environ['CUDA_LAUNCH_BLOCKING'] = \"1\"\n",
    "os.environ[\"CUDA_VISIBLE_DEVICES\"] = \"0\""
   ]
  },
  {
   "cell_type": "code",
   "execution_count": 5,
   "metadata": {
    "jupyter": {
     "outputs_hidden": false
    },
    "pycharm": {
     "name": "#%%\n"
    }
   },
   "outputs": [],
   "source": [
    "path_dir = 'D:/data/PersonVideo/annotation/2D'\n",
    "file_list1 = os.listdir(path_dir)"
   ]
  },
  {
   "cell_type": "code",
   "execution_count": 6,
   "metadata": {
    "jupyter": {
     "outputs_hidden": false
    },
    "pycharm": {
     "name": "#%%\n"
    }
   },
   "outputs": [
    {
     "name": "stderr",
     "output_type": "stream",
     "text": [
      "100%|████████████████████████████████████████████████████████████████████████████████| 348/348 [05:51<00:00,  1.01s/it]\n"
     ]
    }
   ],
   "source": [
    "false_data = list()\n",
    "true_data = list()\n",
    "\n",
    "true_name = list()\n",
    "\n",
    "for file_name1 in tqdm(file_list1):\n",
    "    #print(file_name1)\n",
    "    file_path = path_dir + '/' + file_name1\n",
    "\n",
    "    file_list2 = os.listdir(file_path)\n",
    "\n",
    "    if file_name1[0] == '6': # 쓰러짐 영상\n",
    "        for file_name2 in file_list2:\n",
    "            read_file_path = file_path + '/' + file_name2\n",
    "            true_name.append(file_name2)\n",
    "\n",
    "            with open(read_file_path, 'r') as f:\n",
    "                json_data = json.load(f)\n",
    "                #print(json_data.keys())\n",
    "                tmpList = list()\n",
    "\n",
    "                for data in json_data['annotations']:\n",
    "                    tmpList.append(data['keypoints'])\n",
    "\n",
    "                true_data.append(tmpList)\n",
    "\n",
    "    else: # 기타 영상\n",
    "        for file_name2 in file_list2:\n",
    "            read_file_path = file_path + '/' + file_name2\n",
    "\n",
    "\n",
    "            with open(read_file_path, 'r') as f:\n",
    "                json_data = json.load(f)\n",
    "                #print(json_data.keys())\n",
    "                tmpList = list()\n",
    "                for data in json_data['annotations']:\n",
    "                    tmpList.append(data['keypoints'])\n",
    "\n",
    "                false_data.append(tmpList)"
   ]
  },
  {
   "cell_type": "code",
   "execution_count": 7,
   "metadata": {},
   "outputs": [],
   "source": [
    "for index, data in enumerate(true_data):\n",
    "    if len(data) < 30:\n",
    "        tmp_list = [[0 for w in range(48)] for h in range(30-len(data))]\n",
    "        data += tmp_list\n",
    "        true_data[index]=data\n",
    "    else:\n",
    "        true_data[index] = data[:30]"
   ]
  },
  {
   "cell_type": "code",
   "execution_count": 8,
   "metadata": {},
   "outputs": [],
   "source": [
    "for index, data in enumerate(false_data):\n",
    "    if len(data) < 30:\n",
    "        tmp_list = [[0 for w in range(48)] for h in range(30-len(data))]\n",
    "        data += tmp_list\n",
    "        false_data[index]=data\n",
    "    else:\n",
    "        false_data[index] = data[:30]"
   ]
  },
  {
   "cell_type": "code",
   "execution_count": 9,
   "metadata": {
    "jupyter": {
     "outputs_hidden": false
    },
    "pycharm": {
     "name": "#%%\n"
    }
   },
   "outputs": [],
   "source": [
    "import numpy as np"
   ]
  },
  {
   "cell_type": "code",
   "execution_count": 10,
   "metadata": {
    "jupyter": {
     "outputs_hidden": false
    },
    "pycharm": {
     "name": "#%%\n"
    }
   },
   "outputs": [],
   "source": [
    "true_np = np.array(true_data, dtype=np.float32)\n",
    "false_np = np.array(false_data, dtype=np.float32)"
   ]
  },
  {
   "cell_type": "code",
   "execution_count": 62,
   "metadata": {
    "jupyter": {
     "outputs_hidden": false
    },
    "pycharm": {
     "name": "#%%\n"
    }
   },
   "outputs": [
    {
     "name": "stdout",
     "output_type": "stream",
     "text": [
      "(198335, 30, 20)\n",
      "(3831, 30, 20)\n"
     ]
    }
   ],
   "source": [
    "print(false_np.shape)\n",
    "print(true_np.shape)"
   ]
  },
  {
   "cell_type": "code",
   "execution_count": 12,
   "metadata": {},
   "outputs": [],
   "source": [
    "index = [(3*i)-1 for i in range(1, 17)]"
   ]
  },
  {
   "cell_type": "code",
   "execution_count": 13,
   "metadata": {},
   "outputs": [],
   "source": [
    "false_np = np.delete(false_np, index, 2)\n",
    "true_np = np.delete(true_np, index, 2)"
   ]
  },
  {
   "cell_type": "code",
   "execution_count": 47,
   "metadata": {
    "scrolled": true
   },
   "outputs": [
    {
     "name": "stdout",
     "output_type": "stream",
     "text": [
      "[[ 0  0  0  0  0  0  0  0  0  0  0  0  0  0  0  0  0  0 -1  0]\n",
      " [ 0  0  0  0  0  0  0  0  0  0  0  0  0  0  0  0  0  0  0 -1]\n",
      " [ 0  0  0  0  0  0  0  0  0  0  0  0  0  0 -1  0  0  0  1  0]\n",
      " [ 0  0  0  0  0  0  0  0  0  0  0  0  0  0  0 -1  0  0  0  1]\n",
      " [ 0  0  0  0  0  0  0  0  0  0  0  0  0  0  0  0  0  0  0  0]\n",
      " [ 0  0  0  0  0  0  0  0  0  0  0  0  0  0  0  0  0  0  0  0]\n",
      " [ 0  0  0  0  0  0  0  0  0  0  0  0  0  0  0  0  0  0  0  0]\n",
      " [ 0  0  0  0  0  0  0  0  0  0  0  0  0  0  0  0  0  0  0  0]\n",
      " [ 0  0  0  0  0  0  0  0  0  0  0  0 -1  0  0  0  1  0  0  0]\n",
      " [ 0  0  0  0  0  0  0  0  0  0  0  0  0 -1  0  0  0  1  0  0]\n",
      " [ 0  0  0  0  0  0  0  0  0  0  0  0  0  0  0  0 -1  0  0  0]\n",
      " [ 0  0  0  0  0  0  0  0  0  0  0  0  0  0  0  0  0 -1  0  0]\n",
      " [ 0  0  0  0  0  0  0  0  0  0 -1  0  1  0  1  0  0  0  0  0]\n",
      " [ 0  0  0  0  0  0  0  0  0  0  0 -1  0  1  0  1  0  0  0  0]\n",
      " [ 0  0  0  0  0  0  0  0  0  0  0  0  0  0  0  0  0  0  0  0]\n",
      " [ 0  0  0  0  0  0  0  0  0  0  0  0  0  0  0  0  0  0  0  0]\n",
      " [-1  0  1  0  1  0  0  0  0  0  1  0  0  0  0  0  0  0  0  0]\n",
      " [ 0 -1  0  1  0  1  0  0  0  0  0  1  0  0  0  0  0  0  0  0]\n",
      " [ 1  0  0  0  0  0  0  0  0  0  0  0  0  0  0  0  0  0  0  0]\n",
      " [ 0  1  0  0  0  0  0  0  0  0  0  0  0  0  0  0  0  0  0  0]\n",
      " [ 0  0  0  0  0  0  0  0 -1  0  0  0  0  0  0  0  0  0  0  0]\n",
      " [ 0  0  0  0  0  0  0  0  0 -1  0  0  0  0  0  0  0  0  0  0]\n",
      " [ 0  0  0  0 -1  0  0  0  1  0  0  0  0  0  0  0  0  0  0  0]\n",
      " [ 0  0  0  0  0 -1  0  0  0  1  0  0  0  0  0  0  0  0  0  0]\n",
      " [ 0  0  0  0  0  0  0  0  0  0  0  0  0  0  0  0  0  0  0  0]\n",
      " [ 0  0  0  0  0  0  0  0  0  0  0  0  0  0  0  0  0  0  0  0]\n",
      " [ 0  0  0  0  0  0  0  0  0  0  0  0  0  0  0  0  0  0  0  0]\n",
      " [ 0  0  0  0  0  0  0  0  0  0  0  0  0  0  0  0  0  0  0  0]\n",
      " [ 0  0 -1  0  0  0  1  0  0  0  0  0  0  0  0  0  0  0  0  0]\n",
      " [ 0  0  0 -1  0  0  0  1  0  0  0  0  0  0  0  0  0  0  0  0]\n",
      " [ 0  0  0  0  0  0 -1  0  0  0  0  0  0  0  0  0  0  0  0  0]\n",
      " [ 0  0  0  0  0  0  0 -1  0  0  0  0  0  0  0  0  0  0  0  0]]\n"
     ]
    }
   ],
   "source": [
    "np_list = [[0 for i in range(20)] for j in range (30)]\n",
    "\n",
    "sub_mat = np.zeros((32, 20), dtype=int)\n",
    "index_a = [9, 8, 8, 14, 11, 8, 6, 6, 4, 1]\n",
    "index_b = [8, 14, 11, 15, 10, 6, 4, 1, 5, 0]\n",
    "\n",
    "for i, (a, b) in enumerate(zip(index_a, index_b)):\n",
    "    sub_mat[a*2, i*2] = 1\n",
    "    sub_mat[b*2, i*2] = -1\n",
    "\n",
    "    sub_mat[a*2+1, i*2 + 1] = 1\n",
    "    sub_mat[b*2+1, i*2 + 1] = -1\n",
    "\n",
    "\n",
    "print(sub_mat)"
   ]
  },
  {
   "cell_type": "code",
   "execution_count": 49,
   "metadata": {
    "jupyter": {
     "outputs_hidden": false
    },
    "pycharm": {
     "name": "#%%\n"
    }
   },
   "outputs": [],
   "source": [
    "def make_vector(numpy_arr, sub_mat):\n",
    "    num_list = list()\n",
    "    for data in tqdm(numpy_arr):\n",
    "\n",
    "        np_arr = data@sub_mat\n",
    "\n",
    "        if(np.ptp(np_arr) != 0):\n",
    "            np_arr = (np_arr - np.min(np_arr))/np.ptp(np_arr)\n",
    "\n",
    "        #print(np_arr.shape)\n",
    "\n",
    "        num_list.append(np_arr)\n",
    "    new_np = np.array(num_list, dtype=np.float32)\n",
    "    print(new_np.shape)\n",
    "    return new_np\n"
   ]
  },
  {
   "cell_type": "code",
   "execution_count": 51,
   "metadata": {},
   "outputs": [
    {
     "name": "stderr",
     "output_type": "stream",
     "text": [
      "100%|███████████████████████████████████████████████████████████████████████| 198335/198335 [00:07<00:00, 25029.89it/s]\n"
     ]
    },
    {
     "name": "stdout",
     "output_type": "stream",
     "text": [
      "(198335, 30, 20)\n"
     ]
    },
    {
     "name": "stderr",
     "output_type": "stream",
     "text": [
      "100%|███████████████████████████████████████████████████████████████████████████| 3831/3831 [00:00<00:00, 24103.97it/s]"
     ]
    },
    {
     "name": "stdout",
     "output_type": "stream",
     "text": [
      "(3831, 30, 20)\n"
     ]
    },
    {
     "name": "stderr",
     "output_type": "stream",
     "text": [
      "\n"
     ]
    }
   ],
   "source": [
    "false_np, true_np = make_vector(false_np, sub_mat), make_vector(true_np, sub_mat)"
   ]
  },
  {
   "cell_type": "code",
   "execution_count": 13,
   "metadata": {
    "jupyter": {
     "outputs_hidden": false
    },
    "pycharm": {
     "name": "#%%\n"
    }
   },
   "outputs": [],
   "source": [
    "del(false_data)\n",
    "del(true_data)"
   ]
  },
  {
   "cell_type": "code",
   "execution_count": 15,
   "metadata": {
    "jupyter": {
     "outputs_hidden": false
    },
    "pycharm": {
     "name": "#%%\n"
    }
   },
   "outputs": [],
   "source": [
    "import torch"
   ]
  },
  {
   "cell_type": "code",
   "execution_count": 52,
   "metadata": {
    "jupyter": {
     "outputs_hidden": false
    },
    "pycharm": {
     "name": "#%%\n"
    }
   },
   "outputs": [],
   "source": [
    "y_true_np = np.array([1 for w in range(len(true_np))])\n",
    "y_false_np = np.array([0 for w in range(len(false_np))])"
   ]
  },
  {
   "cell_type": "code",
   "execution_count": 94,
   "metadata": {},
   "outputs": [
    {
     "name": "stdout",
     "output_type": "stream",
     "text": [
      "(3831,)\n",
      "(198335,)\n"
     ]
    }
   ],
   "source": [
    "print(y_true_np.shape)\n",
    "print(y_false_np.shape)"
   ]
  },
  {
   "cell_type": "code",
   "execution_count": 95,
   "metadata": {},
   "outputs": [],
   "source": [
    "frac = 0.3\n",
    "\n",
    "split_idx = int(len(y_true_np)*frac)\n",
    "finalTest_true_x, train_true_x = true_np[:split_idx], true_np[split_idx:]\n",
    "finalTest_true_y, train_true_y = y_true_np[:split_idx], y_true_np[split_idx:]\n",
    "\n",
    "split_idx = int(len(y_false_np)*frac)\n",
    "finalTest_false_x, train_false_x = false_np[:split_idx], false_np[split_idx:]\n",
    "finalTest_false_y, train_false_y = y_false_np[:split_idx], y_false_np[split_idx:]"
   ]
  },
  {
   "cell_type": "code",
   "execution_count": 96,
   "metadata": {},
   "outputs": [],
   "source": [
    "frac = 0.666\n",
    "\n",
    "split_idx = int(len(finalTest_true_y)*frac)\n",
    "val_true_x, test_true_x = finalTest_true_x[:split_idx], finalTest_true_x[split_idx:]\n",
    "val_true_y, test_true_y = finalTest_true_y[:split_idx], finalTest_true_y[split_idx:]\n",
    "\n",
    "\n",
    "split_idx = int(len(finalTest_false_y)*frac)\n",
    "val_false_x, test_false_x = finalTest_false_x[:split_idx], finalTest_false_x[split_idx:]\n",
    "val_false_y, test_false_y = finalTest_false_y[:split_idx], finalTest_false_y[split_idx:]"
   ]
  },
  {
   "cell_type": "code",
   "execution_count": 97,
   "metadata": {},
   "outputs": [
    {
     "name": "stdout",
     "output_type": "stream",
     "text": [
      "(765, 30, 20)\n",
      "(765,)\n",
      "\n",
      "(39627, 30, 20)\n",
      "(39627,)\n",
      "(138835, 30, 20)\n",
      "(138835,)\n",
      "(2682, 30, 20)\n"
     ]
    }
   ],
   "source": [
    "print(val_true_x.shape)\n",
    "print(val_true_y.shape)\n",
    "print()\n",
    "print(val_false_x.shape)\n",
    "print(val_false_y.shape)\n",
    "\n",
    "print(train_false_x.shape)\n",
    "print(train_false_y.shape)\n",
    "\n",
    "print(train_true_x.shape)"
   ]
  },
  {
   "cell_type": "code",
   "execution_count": 98,
   "metadata": {},
   "outputs": [],
   "source": [
    "train_true_x = np.repeat(train_true_x, 30, axis=0)\n",
    "train_true_y = np.repeat(train_true_y, 30, axis=0)\n",
    "\n",
    "val_true_x = np.repeat(val_true_x, 30, axis=0)\n",
    "val_true_y = np.repeat(val_true_y, 30, axis=0)"
   ]
  },
  {
   "cell_type": "code",
   "execution_count": 99,
   "metadata": {},
   "outputs": [
    {
     "name": "stdout",
     "output_type": "stream",
     "text": [
      "(219295, 30, 20)\n",
      "(219295,)\n"
     ]
    }
   ],
   "source": [
    "train_x = np.concatenate((train_false_x, train_true_x), axis=0)\n",
    "train_y = np.concatenate((train_false_y, train_true_y), axis=0)\n",
    "\n",
    "test_x = np.concatenate((test_true_x, test_false_x), axis=0)\n",
    "test_y = np.concatenate((test_true_y, test_false_y), axis=0)\n",
    "\n",
    "val_x = np.concatenate((val_true_x, val_false_x), axis=0)\n",
    "val_y = np.concatenate((val_true_y, val_false_y), axis=0)\n",
    "\n",
    "print(train_x.shape)\n",
    "print(train_y.shape)"
   ]
  },
  {
   "cell_type": "code",
   "execution_count": 100,
   "metadata": {},
   "outputs": [],
   "source": [
    "idx = np.arange(train_x.shape[0])\n",
    "np.random.shuffle(idx)\n",
    "\n",
    "train_x = train_x[idx]\n",
    "train_y = train_y[idx]\n",
    "\n",
    "\n",
    "idx = np.arange(test_x.shape[0])\n",
    "np.random.shuffle(idx)\n",
    "\n",
    "test_x = test_x[idx]\n",
    "test_y = test_y[idx]\n",
    "\n",
    "\n",
    "idx = np.arange(val_x.shape[0])\n",
    "np.random.shuffle(idx)\n",
    "\n",
    "val_x = val_x[idx]\n",
    "val_y = val_y[idx]"
   ]
  },
  {
   "cell_type": "code",
   "execution_count": 101,
   "metadata": {},
   "outputs": [
    {
     "name": "stdout",
     "output_type": "stream",
     "text": [
      "(219295, 30, 20)\n",
      "(20257, 30, 20)\n",
      "(62577, 30, 20)\n"
     ]
    }
   ],
   "source": [
    "print(train_x.shape)\n",
    "print(test_x.shape)\n",
    "print(val_x.shape)"
   ]
  },
  {
   "cell_type": "code",
   "execution_count": 102,
   "metadata": {},
   "outputs": [],
   "source": [
    "train_data = TensorDataset(torch.from_numpy(train_x), torch.from_numpy(train_y))\n",
    "valid_data = TensorDataset(torch.from_numpy(val_x), torch.from_numpy(val_y))\n",
    "test_data = TensorDataset(torch.from_numpy(test_x), torch.from_numpy(test_y))"
   ]
  },
  {
   "cell_type": "code",
   "execution_count": 103,
   "metadata": {},
   "outputs": [],
   "source": [
    "torch.save(train_data, 'train_forScore_test_val_x30.pt')\n",
    "torch.save(test_data, 'test_forScore_test_val_x30.pt')\n",
    "torch.save(valid_data, 'valid_forScore_test_val_x30.pt')"
   ]
  },
  {
   "cell_type": "code",
   "execution_count": 93,
   "metadata": {},
   "outputs": [
    {
     "name": "stdout",
     "output_type": "stream",
     "text": [
      "[[[0.7704918  0.52459013 0.49590164 ... 0.30327868 0.7090164  0.34016395]\n",
      "  [0.4385246  0.44262296 0.47540984 ... 0.33606556 0.45491803 0.29918033]\n",
      "  [0.7991803  0.52868855 0.47540984 ... 0.34016395 0.77868855 0.33606556]\n",
      "  ...\n",
      "  [0.47131148 0.34836066 0.24180327 ... 0.30327868 0.602459   0.28688523]\n",
      "  [0.5327869  0.39344263 0.72131145 ... 0.3237705  0.58196723 0.3114754 ]\n",
      "  [0.47131148 0.31557378 0.1762295  ... 0.23360656 0.57377046 0.21721311]]\n",
      "\n",
      " [[0.626943   0.30051813 0.29533678 ... 0.07253886 0.6217617  0.15544042]\n",
      "  [0.626943   0.30051813 0.29533678 ... 0.07253886 0.6217617  0.15544042]\n",
      "  [0.626943   0.30051813 0.29533678 ... 0.07253886 0.6217617  0.15544042]\n",
      "  ...\n",
      "  [0.61139894 0.61139894 0.61139894 ... 0.61139894 0.61139894 0.61139894]\n",
      "  [0.61139894 0.61139894 0.61139894 ... 0.61139894 0.61139894 0.61139894]\n",
      "  [0.61139894 0.61139894 0.61139894 ... 0.61139894 0.61139894 0.61139894]]\n",
      "\n",
      " [[0.699187   0.4878049  0.8780488  ... 0.42547426 0.7100271  0.4607046 ]\n",
      "  [0.699187   0.4878049  0.84281844 ... 0.42547426 0.7100271  0.4607046 ]\n",
      "  [0.7398374  0.48238483 0.8699187  ... 0.46612465 0.70460707 0.47425476]\n",
      "  ...\n",
      "  [0.7479675  0.5745258  0.87262875 ... 0.49864498 0.79945797 0.43631437]\n",
      "  [0.7533875  0.5691057  0.79403794 ... 0.5311653  0.7723577  0.48238483]\n",
      "  [0.70731705 0.56639564 0.7886179  ... 0.5745258  0.7100271  0.5420054 ]]\n",
      "\n",
      " [[0.7173145  0.47349823 0.45936397 ... 0.36749116 0.7491166  0.36749116]\n",
      "  [0.7031802  0.45936397 0.49116609 ... 0.32155478 0.68904597 0.3533569 ]\n",
      "  [0.7173145  0.4310954  0.49116609 ... 0.3533569  0.68904597 0.3392226 ]\n",
      "  ...\n",
      "  [0.7031802  0.7031802  0.7031802  ... 0.7031802  0.7031802  0.7031802 ]\n",
      "  [0.7031802  0.7031802  0.7031802  ... 0.7031802  0.7031802  0.7031802 ]\n",
      "  [0.7031802  0.7031802  0.7031802  ... 0.7031802  0.7031802  0.7031802 ]]\n",
      "\n",
      " [[0.69124424 0.31797236 0.34562212 ... 0.2857143  0.6175115  0.29032257]\n",
      "  [0.6497696  0.29953918 0.41935483 ... 0.30414745 0.6175115  0.29032257]\n",
      "  [0.640553   0.30414745 0.47004607 ... 0.29032257 0.6635945  0.29493088]\n",
      "  ...\n",
      "  [0.6267281  0.6267281  0.6267281  ... 0.6267281  0.6267281  0.6267281 ]\n",
      "  [0.6267281  0.6267281  0.6267281  ... 0.6267281  0.6267281  0.6267281 ]\n",
      "  [0.6267281  0.6267281  0.6267281  ... 0.6267281  0.6267281  0.6267281 ]]]\n",
      "[0 0 1 1 0 1 1 0 0 1 0 0 1 0 0 0 0 0 0 0 0 1 0 1 0 1 0 1 1 0 1 0 0 1 1 1 0\n",
      " 1 0 1 0 1 0 0 0 1 0 0 0 0 1 0 0 0 1 0 0 0 0 0 0 0 0 0 0 1 1 0 1 0 0 1 0 0\n",
      " 0 1 1 0 0 0 1 0 0 1 0 0 1 1 1 0 0 0 0 0 0 0 0 0 0 1 0 1 1 0 1 0 1 0 0 0 1\n",
      " 0 0 1 1 0 0 1 0 0 0 0 1 1 0 1 0 0 0 0 1 0 0 1 0 0 1 0 0 1 0 1 0 0 1 0 0 0\n",
      " 0 0 0 1 0 1 1 0 0 0 0 0 1 1 0 0 1 0 0 1 0 1 0 1 0 0 0 0 0 1 0 0 1 0 1 1 0\n",
      " 0 0 0 1 0 1 0 0 0 1 1 0 0 1 0 0 0 0 1 1 1 0 1 1 0 1 0 1 0 0 0 0 0 1 0 1 1\n",
      " 0 0 0 0 1 1 0 1 0 0 0 0 0 0 1 0 0 0 0 0 0 1 0 0 0 0 0 0 0 0 0 0 0 0 0 0 0\n",
      " 0 0 1 0 0 0 0 1 0 0 0 0 0 0 0 0 0 0 1 1 0 0 0 0 0 1 0 0 0 0 1 0 0 0 0 0 1\n",
      " 0 1 0 0 1 0 0 0 0 0 0 0 0 0 1 0 1 0 1 1 1 0 0 0 0 0 0 0 0 0 0 1 0 0 0 0 1\n",
      " 0 0 0 0 0 0 0 0 1 1 0 1 0 0 0 1 0 0 1 0 0 1 0 0 0 0 1 0 0 0 0 0 0 0 0 1 0\n",
      " 0 1 0 1 0 0 1 0 0 0 0 0 0 1 1 0 1 1 0 1 0 1 0 0 1 1 0 0 0 0 1 1 0 1 0 0 1\n",
      " 0 0 0 0 0 1 0 0 1 0 1 0 1 0 0 1 0 0 0 1 0 0 1 0 0 1 0 0 0 1 0 0 0 0 0 0 1\n",
      " 0 0 0 0 1 1 0 0 0 0 0 0 0 0 0 0 0 0 1 0 1 0 0 0 0 0 0 0 1 0 0 0 1 1 0 1 0\n",
      " 1 0 0 0 1 1 0 0 1 0 1 0 0 0 1 1 1 0 0]\n"
     ]
    }
   ],
   "source": [
    "print(train_x[:5])\n",
    "print(train_y[:500])"
   ]
  },
  {
   "cell_type": "code",
   "execution_count": 32,
   "metadata": {},
   "outputs": [],
   "source": [
    "data_x = np.concatenate((x_false, x_true), axis=0)"
   ]
  },
  {
   "cell_type": "code",
   "execution_count": 40,
   "metadata": {},
   "outputs": [
    {
     "name": "stdout",
     "output_type": "stream",
     "text": [
      "[    0     1     2 ... 20213 20214 20215]\n",
      "[19778   729 12914 ...  9805  3491  7056]\n"
     ]
    }
   ],
   "source": []
  },
  {
   "cell_type": "code",
   "execution_count": null,
   "metadata": {},
   "outputs": [],
   "source": []
  }
 ],
 "metadata": {
  "kernelspec": {
   "display_name": "pytorch",
   "language": "python",
   "name": "pytorch"
  },
  "language_info": {
   "codemirror_mode": {
    "name": "ipython",
    "version": 3
   },
   "file_extension": ".py",
   "mimetype": "text/x-python",
   "name": "python",
   "nbconvert_exporter": "python",
   "pygments_lexer": "ipython3",
   "version": "3.8.13"
  }
 },
 "nbformat": 4,
 "nbformat_minor": 4
}
